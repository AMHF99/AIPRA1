{
 "cells": [
  {
   "cell_type": "markdown",
   "metadata": {},
   "source": [
    "All the IPython Notebooks in this lecture series are available at https://github.com/ahforoughi/AIPRA\n"
   ]
  },
  {
   "cell_type": "markdown",
   "metadata": {},
   "source": [
    "# Python-Lectures"
   ]
  },
  {
   "cell_type": "markdown",
   "metadata": {},
   "source": [
    "## Introduction"
   ]
  },
  {
   "cell_type": "markdown",
   "metadata": {},
   "source": [
    "Python is a modern, robust, high level programming language. It is very easy to pick up even if you are completely new to programming."
   ]
  },
  {
   "cell_type": "markdown",
   "metadata": {},
   "source": [
    "## Installation"
   ]
  },
  {
   "cell_type": "markdown",
   "metadata": {},
   "source": [
    "Mac OS X and Linux comes pre installed with python. Windows users can download python from https://www.python.org/downloads/ .\n",
    "\n",
    "To install IPython run,\n",
    "\n",
    "    $ pip install ipython[all]\n",
    "\n",
    "or download from https://anaconda.com\n",
    "    \n",
    "This will install all the necessary dependencies for the notebook, qtconsole, tests etc."
   ]
  },
  {
   "cell_type": "markdown",
   "metadata": {},
   "source": [
    "## Be sure\n",
    "To check if you have python installed on a Windows PC, search in the start bar for Python or run the following on the Command Line (cmd.exe):\n",
    "\n",
    "    C:\\Users\\Your Name> python --version\n",
    "    \n",
    "To check if you have python installed on a Linux or Mac, then on linux open the command line or on Mac open the Terminal and type:\n",
    "\n",
    "    $ python --version\n",
    "\n"
   ]
  },
  {
   "cell_type": "markdown",
   "metadata": {},
   "source": [
    "## Run juputer-lab"
   ]
  },
  {
   "cell_type": "markdown",
   "metadata": {},
   "source": [
    "From the terminal\n",
    "\n",
    "    Jupyter-lab\n",
    "\n"
   ]
  },
  {
   "cell_type": "markdown",
   "metadata": {},
   "source": [
    "## How to learn from this resource?"
   ]
  },
  {
   "cell_type": "markdown",
   "metadata": {},
   "source": [
    "Download all the ipython notebooks from this repository https://github.com/ahforoughi/AIPRA\n",
    "\n",
    "Launch ipython notebook from the folder which contains the notebooks. Open each one of them\n",
    "\n",
    "    Cell > All Output > Clear\n",
    "    \n",
    "This will clear all the outputs and now you can understand each statement and learn interactively."
   ]
  },
  {
   "cell_type": "markdown",
   "metadata": {},
   "source": [
    "## What can Python do?\n",
    "- Python can be used on a server to create web applications.\n",
    "- Python can be used alongside software to create workflows.\n",
    "- Python can connect to database systems. It can also read and modify files.\n",
    "- Python can be used to handle big data and perform complex mathematics.\n",
    "- Python can be used for rapid prototyping, or for production-ready software development."
   ]
  },
  {
   "cell_type": "markdown",
   "metadata": {},
   "source": [
    "## Why Python\n",
    "- Python works on different platforms (Windows, Mac, Linux, Raspberry Pi, etc).\n",
    "- Python has a simple syntax similar to the English language.\n",
    "- Python has syntax that allows developers to write programs with fewer lines than some other programming languages.\n",
    "- Python runs on an interpreter system, meaning that code can be executed as soon as it is written. This means that prototyping can be very quick.\n",
    "- Python can be treated in a procedural way, an object-oriented way or a functional way."
   ]
  },
  {
   "cell_type": "markdown",
   "metadata": {},
   "source": [
    "## Python Quickstart\n",
    "Python is an interpreted programming language, this means that as a developer you write Python (.py) files in a text editor and then put those files into the python interpreter to be executed.\n",
    "\n",
    "The way to run a python file is like this on the command line:\n",
    "\n",
    "    C:\\Users\\Your Name> python helloworld.py\n",
    "  \n",
    "Where \"helloworld.py\" is the name of your python file.\n",
    "\n",
    "Let's write our first Python file, called helloworld.py, which can be done in any text editor."
   ]
  },
  {
   "cell_type": "code",
   "execution_count": null,
   "metadata": {},
   "outputs": [],
   "source": []
  }
 ],
 "metadata": {
  "kernelspec": {
   "display_name": "Python 3",
   "language": "python",
   "name": "python3"
  },
  "language_info": {
   "codemirror_mode": {
    "name": "ipython",
    "version": 3
   },
   "file_extension": ".py",
   "mimetype": "text/x-python",
   "name": "python",
   "nbconvert_exporter": "python",
   "pygments_lexer": "ipython3",
   "version": "3.8.5"
  }
 },
 "nbformat": 4,
 "nbformat_minor": 4
}
