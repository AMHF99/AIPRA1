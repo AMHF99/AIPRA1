{
  "cells": [
    {
      "cell_type": "markdown",
      "metadata": {
        "id": "view-in-github",
        "colab_type": "text"
      },
      "source": [
        "<a href=\"https://colab.research.google.com/github/ahforoughi/AIPRA/blob/master/python_introduction.ipynb\" target=\"_parent\"><img src=\"https://colab.research.google.com/assets/colab-badge.svg\" alt=\"Open In Colab\"/></a>"
      ]
    },
    {
      "cell_type": "markdown",
      "metadata": {
        "id": "S4fH6XtgOp-8"
      },
      "source": [
        "# Welcome to Python!\n",
        "This notebook is where you can review most of the basic concepts of Python that we covered during our workshop. You can run, edit, and experiment with the code blocks here.\n",
        "\n",
        "Make sure you read the comments carefully to understand what each block of code does.\n",
        "\n",
        "If you run into a compilation error, try to debug it! **debug! debug! debug! debug! debug!**\n"
      ]
    },
    {
      "cell_type": "markdown",
      "metadata": {
        "id": "FbnHKJb5Op_B"
      },
      "source": [
        "# Types"
      ]
    },
    {
      "cell_type": "code",
      "execution_count": 2,
      "metadata": {
        "colab": {
          "base_uri": "https://localhost:8080/"
        },
        "id": "cfskTVpXOp_C",
        "outputId": "bc65fd44-cc15-4180-855f-f11a3d22aa4c"
      },
      "outputs": [
        {
          "output_type": "stream",
          "name": "stdout",
          "text": [
            "Hello World!\n",
            "3\n",
            "4.5\n",
            "I am 50 years old\n"
          ]
        }
      ],
      "source": [
        "# First off, let's start with the basic basics. In Python, each object / \n",
        "# thing has a type. For example, a word like\n",
        "\n",
        "print (\"Hello World!\") # This is a string\n",
        "print (3) # This is an integer\n",
        "print (4.5) # This is a float - a number with a decimal point\n",
        "print (\"I am\", 50, \"years old\") # We can print multiple things by separating by commas"
      ]
    },
    {
      "cell_type": "code",
      "execution_count": 3,
      "metadata": {
        "colab": {
          "base_uri": "https://localhost:8080/"
        },
        "id": "gx-gDHNoOp_D",
        "outputId": "1f241736-b97b-4741-9f0f-f8f42b41b1ea"
      },
      "outputs": [
        {
          "output_type": "stream",
          "name": "stdout",
          "text": [
            "<class 'str'>\n",
            "<class 'int'>\n",
            "<class 'float'>\n"
          ]
        }
      ],
      "source": [
        "# We can check the type of an object using the type() \n",
        "print (type(\"Hello World!\")) #\"str\" means string\n",
        "print (type(3)) #\"int\" means integer\n",
        "print (type(4.5)) #\"float\" means a number with a decimal"
      ]
    },
    {
      "cell_type": "code",
      "execution_count": 5,
      "metadata": {
        "colab": {
          "base_uri": "https://localhost:8080/"
        },
        "id": "fAqfgy1yOp_E",
        "outputId": "e4104fe0-8470-4374-a4e2-ff7fc2eaa19a"
      },
      "outputs": [
        {
          "output_type": "stream",
          "name": "stdout",
          "text": [
            "False\n",
            "True\n",
            "True\n",
            "False\n",
            "===========\n",
            "1 == 0: False\n",
            "1 != 0: test\n",
            "1 > 0: True\n",
            "1 > 1: False\n",
            "1 >= 0: True\n",
            "1 >= 1: True\n"
          ]
        }
      ],
      "source": [
        "# Another basic type in Python is the boolean. \n",
        "# It can be used with logical operators like AND or OR\n",
        "\n",
        "print (True and False) # This is False\n",
        "print (True or False)  # This is True\n",
        "print (True and True)  # This is True\n",
        "print (False or False) # This is False\n",
        "print(\"===========\")\n",
        "\n",
        "print('1 == 0: {}'.format(1 == 0))\n",
        "\n",
        "print('1 != 0: {}'.format(1 != 0))\n",
        "print('1 > 0: {}'.format(1 > 0))\n",
        "print('1 > 1: {}'.format(1 > 1))\n",
        "\n",
        "print('1 >= 0: {}'.format(1 >= 0))\n",
        "print('1 >= 1: {}'.format(1 >= 1))\n"
      ]
    },
    {
      "cell_type": "markdown",
      "metadata": {
        "id": "x5E-YylaOp_E"
      },
      "source": [
        "# Variables"
      ]
    },
    {
      "cell_type": "code",
      "execution_count": 6,
      "metadata": {
        "colab": {
          "base_uri": "https://localhost:8080/"
        },
        "id": "TM0T7ZJCOp_F",
        "outputId": "2c1d4102-dbb3-4960-cf6f-88ed06550e00"
      },
      "outputs": [
        {
          "output_type": "stream",
          "name": "stdout",
          "text": [
            "Hello World\n",
            "My name is Amirhossein\n",
            "I am 50 years old\n",
            "True\n"
          ]
        }
      ],
      "source": [
        "# In Python, we can store objects in variables.\n",
        "# they can hold some sort of value which we can access and change anytime we want\n",
        "\n",
        "greetings = \"Hello World\"\n",
        "print (greetings)\n",
        "\n",
        "name = \"Amirhossein\"\n",
        "print (\"My name is\", name)\n",
        "\n",
        "age = 50\n",
        "print (\"I am\", age, \"years old\")\n",
        "\n",
        "hungry = True\n",
        "thirsty = True\n",
        "print (hungry and thirsty) # prints True"
      ]
    },
    {
      "cell_type": "markdown",
      "metadata": {
        "id": "Bnml9ortOp_G"
      },
      "source": [
        "# Conditional"
      ]
    },
    {
      "cell_type": "code",
      "execution_count": 8,
      "metadata": {
        "colab": {
          "base_uri": "https://localhost:8080/"
        },
        "id": "2g67sKWCOp_G",
        "outputId": "93ac0c01-2215-41a1-df35-f762ce832b38"
      },
      "outputs": [
        {
          "output_type": "stream",
          "name": "stdout",
          "text": [
            "statement is True\n"
          ]
        }
      ],
      "source": [
        "statement = True\n",
        "\n",
        "if statement:\n",
        "    print('statement is True')\n",
        "\n",
        "if not statement:\n",
        "    print('statement is not True')"
      ]
    },
    {
      "cell_type": "code",
      "execution_count": 10,
      "metadata": {
        "colab": {
          "base_uri": "https://localhost:8080/"
        },
        "id": "etNiVcWnOp_H",
        "outputId": "ea585853-821d-4eed-c4b5-ef2bc44512a9"
      },
      "outputs": [
        {
          "output_type": "stream",
          "name": "stdout",
          "text": [
            "else\n"
          ]
        }
      ],
      "source": [
        "statement = True\n",
        "if not statement:\n",
        "    print('if')\n",
        "else:\n",
        "    print('else')"
      ]
    },
    {
      "cell_type": "code",
      "execution_count": 11,
      "metadata": {
        "colab": {
          "base_uri": "https://localhost:8080/"
        },
        "id": "goY3FzkMOp_I",
        "outputId": "7e76d29a-1a9c-4c22-9a1d-72a534f2a7f7"
      },
      "outputs": [
        {
          "output_type": "stream",
          "name": "stdout",
          "text": [
            "Hello fellow Pythonista!\n"
          ]
        }
      ],
      "source": [
        "greeting = 'Hello fellow Pythonista!'\n",
        "language = 'Italian'\n",
        "\n",
        "if language == 'Swedish':\n",
        "    greeting = 'Hejsan!'\n",
        "elif language == 'Finnish':\n",
        "    greeting = 'Latua perkele!'\n",
        "elif language == 'Spanish':\n",
        "    greeting = 'Hola!'\n",
        "elif language == 'German':\n",
        "    greeting = 'Guten Tag!'\n",
        "    \n",
        "print(greeting)"
      ]
    },
    {
      "cell_type": "markdown",
      "metadata": {
        "id": "hutUdraaOp_I"
      },
      "source": [
        "# Lists"
      ]
    },
    {
      "cell_type": "code",
      "execution_count": 12,
      "metadata": {
        "colab": {
          "base_uri": "https://localhost:8080/"
        },
        "id": "71qufssrOp_I",
        "outputId": "55f77c71-cc74-4036-b88f-44261d53be01"
      },
      "outputs": [
        {
          "output_type": "stream",
          "name": "stdout",
          "text": [
            "empty list: [], type: <class 'list'>\n"
          ]
        }
      ],
      "source": [
        "my_empty_list = []\n",
        "print('empty list: {}, type: {}'.format(my_empty_list, type(my_empty_list)))"
      ]
    },
    {
      "cell_type": "code",
      "execution_count": 13,
      "metadata": {
        "colab": {
          "base_uri": "https://localhost:8080/"
        },
        "id": "EWU5kbFkOp_J",
        "outputId": "48df73db-ad3d-40a0-d62f-aba82caf0025"
      },
      "outputs": [
        {
          "output_type": "stream",
          "name": "stdout",
          "text": [
            "lengths: 5 and 6\n"
          ]
        }
      ],
      "source": [
        "list_of_ints = [1, 2, 6, 6, 7]\n",
        "list_of_misc = [0.2, 5, 'Python', 'is', 'still fun', '!']\n",
        "print('lengths: {} and {}'.format(len(list_of_ints), len(list_of_misc)))"
      ]
    },
    {
      "cell_type": "code",
      "execution_count": 14,
      "metadata": {
        "colab": {
          "base_uri": "https://localhost:8080/"
        },
        "id": "KcLGvVNPOp_J",
        "outputId": "26d1e77b-f32c-48bc-ba32-f1a5fa50f75f"
      },
      "outputs": [
        {
          "output_type": "stream",
          "name": "stdout",
          "text": [
            "Python\n",
            "cool\n"
          ]
        }
      ],
      "source": [
        "my_list = ['Python', 'is', 'still', 'cool']\n",
        "print(my_list[0])\n",
        "print(my_list[3])"
      ]
    },
    {
      "cell_type": "code",
      "execution_count": 15,
      "metadata": {
        "colab": {
          "base_uri": "https://localhost:8080/"
        },
        "id": "ip_2jL2pOp_J",
        "outputId": "35b784ab-98ad-492a-b003-baf90a547d94"
      },
      "outputs": [
        {
          "output_type": "stream",
          "name": "stdout",
          "text": [
            "Python is there!\n"
          ]
        }
      ],
      "source": [
        "# Checking if certain value is present in list\n",
        "languages = ['Java', 'C++', 'Go', 'Python', 'JavaScript']\n",
        "if 'Python' in languages:\n",
        "    print('Python is there!')"
      ]
    },
    {
      "cell_type": "code",
      "execution_count": 16,
      "metadata": {
        "colab": {
          "base_uri": "https://localhost:8080/"
        },
        "id": "BZlPWmBwOp_K",
        "outputId": "524d3eeb-a150-489f-c7ce-69b95504a538"
      },
      "outputs": [
        {
          "output_type": "stream",
          "name": "stdout",
          "text": [
            "[1]\n",
            "[1, 'ham']\n"
          ]
        }
      ],
      "source": [
        "# list.append()\n",
        "my_list = ['Java', 'C++', 'Go', 'Python', 'JavaScript']\n",
        "my_list = [1]\n",
        "print(my_list)\n",
        "my_list.append('ham')\n",
        "print(my_list)"
      ]
    },
    {
      "cell_type": "markdown",
      "metadata": {
        "id": "qwa_Ne6HOp_K"
      },
      "source": [
        "list.remove()\n",
        "list.sort()\n",
        "list.reverse()\n",
        "list.pop()"
      ]
    },
    {
      "cell_type": "code",
      "execution_count": 17,
      "metadata": {
        "id": "fuRv3SsCOp_K",
        "outputId": "6d08bc5f-11d1-4dd5-b19e-5bc60f719aba",
        "colab": {
          "base_uri": "https://localhost:8080/"
        }
      },
      "outputs": [
        {
          "output_type": "stream",
          "name": "stdout",
          "text": [
            "['Python', 'is', 'still', 'cool']\n",
            "Python\n",
            "['is', 'still', 'cool']\n"
          ]
        }
      ],
      "source": [
        "my_list = ['Python', 'is', 'still', 'cool']\n",
        "print(my_list)\n",
        "print(my_list.pop(0))\n",
        "print(my_list)"
      ]
    },
    {
      "cell_type": "code",
      "execution_count": 18,
      "metadata": {
        "id": "1_JEDQ03Op_L",
        "outputId": "babb4b9c-995f-4f32-deca-dcc351aa002c",
        "colab": {
          "base_uri": "https://localhost:8080/"
        }
      },
      "outputs": [
        {
          "output_type": "stream",
          "name": "stdout",
          "text": [
            "[0, 1, 3, 4]\n"
          ]
        }
      ],
      "source": [
        "my_list = [3, 4, 1, 0]\n",
        "my_list.sort()\n",
        "print(my_list)"
      ]
    },
    {
      "cell_type": "code",
      "execution_count": 19,
      "metadata": {
        "colab": {
          "base_uri": "https://localhost:8080/"
        },
        "id": "irHXPA34Op_M",
        "outputId": "aeb5a977-e796-407c-deb1-70287f47df11"
      },
      "outputs": [
        {
          "output_type": "stream",
          "name": "stdout",
          "text": [
            "[3, 4, 1, 0, 'Python', 'is', 'still', 'cool']\n",
            "8\n"
          ]
        }
      ],
      "source": [
        "my_list_numbers = [3, 4, 1, 0]\n",
        "my_list_words = ['Python', 'is', 'still', 'cool']\n",
        "my_list_numbers.extend(my_list_words)\n",
        "print(my_list_numbers)\n",
        "print(len(my_list_numbers))"
      ]
    },
    {
      "cell_type": "code",
      "execution_count": 20,
      "metadata": {
        "colab": {
          "base_uri": "https://localhost:8080/"
        },
        "id": "dsuqefB0Op_M",
        "outputId": "c3ac856d-eaff-49bb-a68a-07ab0ec9eb8d"
      },
      "outputs": [
        {
          "output_type": "stream",
          "name": "stdout",
          "text": [
            "[3, 4, 1, 0, ['Python', 'is', 'still', 'cool']]\n",
            "5\n"
          ]
        }
      ],
      "source": [
        "my_list_numbers = [3, 4, 1, 0]\n",
        "my_list_words = ['Python', 'is', 'still', 'cool']\n",
        "my_list_numbers.append(my_list_words)\n",
        "\n",
        "print(my_list_numbers)\n",
        "print(len(my_list_numbers))"
      ]
    },
    {
      "cell_type": "code",
      "execution_count": 21,
      "metadata": {
        "id": "GrJtQkPyOp_N",
        "outputId": "4b87d4a8-60cd-4ac9-e4af-bfeb7428ee57",
        "colab": {
          "base_uri": "https://localhost:8080/"
        }
      },
      "outputs": [
        {
          "output_type": "stream",
          "name": "stdout",
          "text": [
            "['Python', 'is', 'still', 'cool', '!']\n",
            "===========\n",
            "['Python', 'is', 'still', 'cool', '!']\n"
          ]
        }
      ],
      "source": [
        "my_list_words = ['Python', 'is', 'still', 'cool']\n",
        "A = my_list_words\n",
        "A.extend('!')\n",
        "print(A)\n",
        "print(\"===========\")\n",
        "print(my_list_words)"
      ]
    },
    {
      "cell_type": "markdown",
      "metadata": {
        "id": "2UvkyH8vOp_N"
      },
      "source": [
        "You can get around this by creating new `list`:"
      ]
    },
    {
      "cell_type": "code",
      "execution_count": 22,
      "metadata": {
        "colab": {
          "base_uri": "https://localhost:8080/"
        },
        "id": "8Rpu6IBQOp_N",
        "outputId": "3c650536-a34d-4dae-f664-49aa05adaeaf"
      },
      "outputs": [
        {
          "output_type": "stream",
          "name": "stdout",
          "text": [
            "original: [1, 2, 3], modified: [99, 2, 3]\n"
          ]
        }
      ],
      "source": [
        "original = [1, 2, 3]\n",
        "modified = list(original)  # Note list() \n",
        "# Alternatively, you can use copy method\n",
        "# modified = original.copy()\n",
        "modified[0] = 99\n",
        "print('original: {}, modified: {}'.format(original, modified))"
      ]
    },
    {
      "cell_type": "markdown",
      "metadata": {
        "id": "ThbWvkgBOp_O"
      },
      "source": [
        "# Loops "
      ]
    },
    {
      "cell_type": "code",
      "execution_count": 26,
      "metadata": {
        "colab": {
          "base_uri": "https://localhost:8080/"
        },
        "id": "G1SzCVJyOp_O",
        "outputId": "300d05e7-6c5d-40af-cf8c-a03edda54fa5"
      },
      "outputs": [
        {
          "output_type": "stream",
          "name": "stdout",
          "text": [
            "python\n",
            "python\n",
            "python\n",
            "python\n",
            "python\n",
            "==========\n",
            "python 0\n",
            "python 1\n",
            "python 2\n",
            "python 3\n",
            "python 4\n"
          ]
        }
      ],
      "source": [
        "# Basically it does whatever follows 5 times.\n",
        "# The \"i\" - a variable that helps us keep track where we are in a loop. \n",
        "for i in range(5):\n",
        "    print (\"python\")\n",
        "\n",
        "print(\"==========\")\n",
        "\n",
        "t = [0, 1, 2, 3, 4]\n",
        "for i in range(5):\n",
        "    print (\"python\", i)"
      ]
    },
    {
      "cell_type": "code",
      "execution_count": 27,
      "metadata": {
        "colab": {
          "base_uri": "https://localhost:8080/"
        },
        "id": "quPmRhAuOp_O",
        "outputId": "6c4e10ef-f957-4117-eab1-d08c8adcadd9"
      },
      "outputs": [
        {
          "output_type": "stream",
          "name": "stdout",
          "text": [
            "1\n",
            "2\n",
            "3\n",
            "4\n",
            "Python\n",
            "is\n",
            "neat\n"
          ]
        }
      ],
      "source": [
        "my_list = [1, 2, 3, 4, 'Python', 'is', 'neat']\n",
        "for item in my_list:\n",
        "    print(item)"
      ]
    },
    {
      "cell_type": "markdown",
      "metadata": {
        "id": "ioE8hbeNOp_O"
      },
      "source": [
        "### `break`\n",
        "Stop the execution of the loop."
      ]
    },
    {
      "cell_type": "code",
      "execution_count": 28,
      "metadata": {
        "colab": {
          "base_uri": "https://localhost:8080/"
        },
        "id": "bRKH19stOp_P",
        "outputId": "74bbabd5-d9b3-4ab6-b5bc-3abecb005c01"
      },
      "outputs": [
        {
          "output_type": "stream",
          "name": "stdout",
          "text": [
            "1\n",
            "2\n",
            "3\n",
            "4\n"
          ]
        }
      ],
      "source": [
        "for item in my_list:\n",
        "    if item == 'Python':\n",
        "        break\n",
        "    print(item)"
      ]
    },
    {
      "cell_type": "code",
      "execution_count": 29,
      "metadata": {
        "colab": {
          "base_uri": "https://localhost:8080/"
        },
        "id": "_lECGb76Op_P",
        "outputId": "4d81cf9b-7e7f-4c8e-9d07-e99ea97ba4bd"
      },
      "outputs": [
        {
          "output_type": "stream",
          "name": "stdout",
          "text": [
            "0\n",
            "1\n",
            "2\n",
            "3\n",
            "4\n"
          ]
        }
      ],
      "source": [
        "for number in range(5):\n",
        "    print(number)"
      ]
    },
    {
      "cell_type": "code",
      "execution_count": 30,
      "metadata": {
        "colab": {
          "base_uri": "https://localhost:8080/"
        },
        "id": "7hbJPc5lOp_P",
        "outputId": "80275cbd-de58-4ffd-82a0-a3d8ddbbbd56"
      },
      "outputs": [
        {
          "output_type": "stream",
          "name": "stdout",
          "text": [
            "2\n",
            "3\n",
            "4\n"
          ]
        }
      ],
      "source": [
        "for number in range(2, 5):\n",
        "    print(number)"
      ]
    },
    {
      "cell_type": "code",
      "execution_count": 31,
      "metadata": {
        "colab": {
          "base_uri": "https://localhost:8080/"
        },
        "id": "U0flSF-7Op_P",
        "outputId": "47d4b614-a60d-40c7-e1d5-758622a59c5c"
      },
      "outputs": [
        {
          "output_type": "stream",
          "name": "stdout",
          "text": [
            "0\n",
            "2\n",
            "4\n",
            "6\n",
            "8\n"
          ]
        }
      ],
      "source": [
        "for number in range(0, 10, 2):  # last one is step\n",
        "    print(number)"
      ]
    },
    {
      "cell_type": "markdown",
      "metadata": {
        "id": "BmGnt0x6Op_P"
      },
      "source": [
        "# Dictionaries"
      ]
    },
    {
      "cell_type": "code",
      "execution_count": 32,
      "metadata": {
        "colab": {
          "base_uri": "https://localhost:8080/"
        },
        "id": "Sih-xoT0Op_P",
        "outputId": "6ca6b05a-ed01-4ad4-f193-993a775e0917"
      },
      "outputs": [
        {
          "output_type": "stream",
          "name": "stdout",
          "text": [
            "{'value1': 1.6, 'value2': 10, 'name': 'John Doe'}\n",
            "{'value1': 1.6, 'value2': 10, 'name': 'John Doe'}\n",
            "equal: True\n",
            "length: 3\n"
          ]
        }
      ],
      "source": [
        "# Kind of like your ordinary dictionary, you have two main\n",
        "# parts - the key and the value. In an actual dictionary,\n",
        "# this is equivalent to the word and its definition.\n",
        "\n",
        "dict1 = {'value1': 1.6, 'value2': 10, 'name': 'John Doe'}\n",
        "dict2 = dict(value1=1.6, value2=10, name='John Doe')\n",
        "\n",
        "print(dict1)\n",
        "print(dict2)\n",
        "\n",
        "print('equal: {}'.format(dict1 == dict2))\n",
        "print('length: {}'.format(len(dict1)))\n"
      ]
    },
    {
      "cell_type": "code",
      "execution_count": 33,
      "metadata": {
        "colab": {
          "base_uri": "https://localhost:8080/"
        },
        "id": "DEg98vMaOp_Q",
        "outputId": "df331b8a-671a-4b5c-db52-f5ec60075256"
      },
      "outputs": [
        {
          "output_type": "stream",
          "name": "stdout",
          "text": [
            "keys: dict_keys(['value1', 'value2', 'name'])\n",
            "values: dict_values([1.6, 10, 'John Doe'])\n",
            "items: dict_items([('value1', 1.6), ('value2', 10), ('name', 'John Doe')])\n"
          ]
        }
      ],
      "source": [
        "print('keys: {}'.format(dict1.keys()))\n",
        "print('values: {}'.format(dict1.values()))\n",
        "print('items: {}'.format(dict1.items()))"
      ]
    },
    {
      "cell_type": "code",
      "execution_count": 34,
      "metadata": {
        "colab": {
          "base_uri": "https://localhost:8080/"
        },
        "id": "F-v1EcCPOp_Q",
        "outputId": "6a12d9a6-dc03-4213-a96b-9a7af337d4a8"
      },
      "outputs": [
        {
          "output_type": "stream",
          "name": "stdout",
          "text": [
            "{'key1': 'new value', 'key2': 99}\n",
            "value of key1: new value\n"
          ]
        }
      ],
      "source": [
        "my_dict = {}\n",
        "my_dict['key1'] = 'value1'\n",
        "my_dict['key2'] = 99\n",
        "my_dict['key1'] = 'new value'  # overriding existing value\n",
        "print(my_dict)\n",
        "print('value of key1: {}'.format(my_dict['key1']))"
      ]
    },
    {
      "cell_type": "code",
      "execution_count": 35,
      "metadata": {
        "colab": {
          "base_uri": "https://localhost:8080/"
        },
        "id": "wNMgM6c9Op_Q",
        "outputId": "4f7a106e-b6aa-4e63-a17f-946d9dcd9890"
      },
      "outputs": [
        {
          "output_type": "stream",
          "name": "stdout",
          "text": [
            "{'key1': 'value1', 'key2': 99}\n",
            "my_key is not in {'key1': 'value1', 'key2': 99}\n"
          ]
        }
      ],
      "source": [
        "my_dict = {'key1': 'value1', 'key2': 99, 'keyX': 'valueX'}\n",
        "del my_dict['keyX']\n",
        "print(my_dict)\n",
        "\n",
        "# Usually better to make sure that the key exists (see also pop() and popitem())\n",
        "key_to_delete = 'my_key'\n",
        "if key_to_delete in my_dict:\n",
        "    del my_dict[key_to_delete]\n",
        "else:\n",
        "    print('{key} is not in {dictionary}'.format(key=key_to_delete, dictionary=my_dict))"
      ]
    },
    {
      "cell_type": "code",
      "execution_count": 36,
      "metadata": {
        "id": "UFS5EoXCOp_R",
        "outputId": "deae78b1-de3f-4b7f-baa4-ced05369d68e",
        "colab": {
          "base_uri": "https://localhost:8080/"
        }
      },
      "outputs": [
        {
          "output_type": "stream",
          "name": "stdout",
          "text": [
            "d: None\n",
            "d: my default value\n"
          ]
        }
      ],
      "source": [
        "my_dict = {'a': 1, 'b': 2, 'c': 3}\n",
        "d = my_dict.get('d')\n",
        "print('d: {}'.format(d))\n",
        "\n",
        "d = my_dict.get('d', 'my default value')\n",
        "print('d: {}'.format(d))"
      ]
    },
    {
      "cell_type": "markdown",
      "metadata": {
        "id": "TTYlB9PBOp_R"
      },
      "source": [
        "# Functions"
      ]
    },
    {
      "cell_type": "code",
      "execution_count": 37,
      "metadata": {
        "colab": {
          "base_uri": "https://localhost:8080/"
        },
        "id": "oUKrjaOiOp_R",
        "outputId": "66f46b41-8fa5-4c38-d179-d8936d10128f"
      },
      "outputs": [
        {
          "output_type": "stream",
          "name": "stdout",
          "text": [
            "4\n"
          ]
        }
      ],
      "source": [
        "# Imagine a function as a machine with three parts.\n",
        "# First, there's the \"input\"\n",
        "# The input is the parameter to the function\n",
        "# The second part is the body of the function. This is\n",
        "# where the function does something to the input\n",
        "# And lastly, there's the return statement. This\n",
        "# is where the function outputs the result\n",
        "\n",
        "# For example, take a sandwich-making machine.\n",
        "# The input would be the list of topings. For example, it may\n",
        "# take inputs like [\"cheese\", \"ham\", \"lettuce\"]\n",
        "# The body of the function involves actually making the sandwich\n",
        "# by putting together the input (the ingredients) with\n",
        "# bread and other condiments.\n",
        "# Finally, the machine \"returns\" or serves the sandwich\n",
        "\n",
        "# This is what a function looks like in Python\n",
        "def add(x, y):\n",
        "    result = x + y\n",
        "    return result\n",
        "\n",
        "print (add(2, 2))"
      ]
    },
    {
      "cell_type": "code",
      "execution_count": 38,
      "metadata": {
        "colab": {
          "base_uri": "https://localhost:8080/"
        },
        "id": "vowUYPanOp_R",
        "outputId": "43574995-b0c5-4109-b279-1a4b5138da6a"
      },
      "outputs": [
        {
          "output_type": "stream",
          "name": "stdout",
          "text": [
            "Hello John Doe and Superman!\n"
          ]
        }
      ],
      "source": [
        "#without return value\n",
        "def greet_us(name1, name2):\n",
        "    print('Hello {} and {}!'.format(name1, name2))\n",
        "\n",
        "greet_us('John Doe', 'Superman')"
      ]
    },
    {
      "cell_type": "code",
      "execution_count": 40,
      "metadata": {
        "id": "moU2OftiOp_R",
        "outputId": "9d0dd329-ede0-402e-c4cb-4a4ca02787bc",
        "colab": {
          "base_uri": "https://localhost:8080/"
        }
      },
      "outputs": [
        {
          "output_type": "stream",
          "name": "stdout",
          "text": [
            "4\n",
            "4\n",
            "4\n"
          ]
        }
      ],
      "source": [
        "def my_fancy_calculation(first, second, third):\n",
        "    \"\"\"\n",
        "    this is test\n",
        "    \"\"\"\n",
        "    return first + second - third \n",
        "\n",
        "print(my_fancy_calculation(3, 2, 1))\n",
        "\n",
        "print(my_fancy_calculation(first=3, second=2, third=1))\n",
        "\n",
        "# With keyword arguments you can mix the order\n",
        "print(my_fancy_calculation(third=1, first=3, second=2))"
      ]
    },
    {
      "cell_type": "markdown",
      "source": [
        "## Class"
      ],
      "metadata": {
        "id": "GNlDHnK4PSlS"
      }
    },
    {
      "cell_type": "code",
      "execution_count": 41,
      "metadata": {
        "id": "n__8lzL_Op_T"
      },
      "outputs": [],
      "source": [
        "class MyClass:\n",
        "  x = 5"
      ]
    },
    {
      "cell_type": "code",
      "source": [
        "p1 = MyClass()\n",
        "print(p1.x)"
      ],
      "metadata": {
        "colab": {
          "base_uri": "https://localhost:8080/"
        },
        "id": "3-MgRiODPWkA",
        "outputId": "a1176df5-2235-43f9-9c6e-6266e0f7efcf"
      },
      "execution_count": 42,
      "outputs": [
        {
          "output_type": "stream",
          "name": "stdout",
          "text": [
            "5\n"
          ]
        }
      ]
    },
    {
      "cell_type": "code",
      "source": [
        "class Person:\n",
        "  def __init__(self, name, age):\n",
        "    self.name = name\n",
        "    self.age = age\n",
        "\n",
        "p1 = Person(\"amirhossein\", 22)\n",
        "\n",
        "print(p1.name)\n",
        "print(p1.age)"
      ],
      "metadata": {
        "colab": {
          "base_uri": "https://localhost:8080/"
        },
        "id": "oRQ5qBXEPYVp",
        "outputId": "4c47a03a-0756-4e11-b7ca-032d18270729"
      },
      "execution_count": 43,
      "outputs": [
        {
          "output_type": "stream",
          "name": "stdout",
          "text": [
            "amirhossein\n",
            "22\n"
          ]
        }
      ]
    },
    {
      "cell_type": "code",
      "source": [
        "class Person:\n",
        "  def __init__(self, name, age):\n",
        "    self.name = name\n",
        "    self.age = age\n",
        "\n",
        "  def myfunc(self):\n",
        "    print(\"Hello my name is \" + self.name)\n",
        "\n",
        "p1 = Person(\"John\", 36)\n",
        "p1.myfunc()"
      ],
      "metadata": {
        "colab": {
          "base_uri": "https://localhost:8080/"
        },
        "id": "jdtd1bFYPbMB",
        "outputId": "286cfddb-3837-494b-a31e-26d3759d26a7"
      },
      "execution_count": 44,
      "outputs": [
        {
          "output_type": "stream",
          "name": "stdout",
          "text": [
            "Hello my name is John\n"
          ]
        }
      ]
    },
    {
      "cell_type": "code",
      "source": [
        ""
      ],
      "metadata": {
        "id": "3QGSU0VJPeU4"
      },
      "execution_count": null,
      "outputs": []
    }
  ],
  "metadata": {
    "kernelspec": {
      "display_name": "Python 3",
      "language": "python",
      "name": "python3"
    },
    "language_info": {
      "codemirror_mode": {
        "name": "ipython",
        "version": 3
      },
      "file_extension": ".py",
      "mimetype": "text/x-python",
      "name": "python",
      "nbconvert_exporter": "python",
      "pygments_lexer": "ipython3",
      "version": "3.7.5rc1"
    },
    "colab": {
      "name": "python introduction.ipynb",
      "provenance": [],
      "include_colab_link": true
    }
  },
  "nbformat": 4,
  "nbformat_minor": 0
}