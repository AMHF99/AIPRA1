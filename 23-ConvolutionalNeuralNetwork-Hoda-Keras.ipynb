{
 "cells": [
  {
   "cell_type": "markdown",
   "metadata": {},
   "source": [
    "# <div style=\"direction:rtl;text-align:right;font-family:B Lotus, B Nazanin, Tahoma\">مقدمه ای بر شبکه‌های عصبی کانولوشنالی(Convolutionl Neural Networks - CNN)</div>"
   ]
  },
  {
   "cell_type": "markdown",
   "metadata": {},
   "source": [
    "<div style=\"direction:rtl;text-align:right;font-family:Tahoma\">\n",
    "در ابتدا معماری شبکه را مشخص میکنیم.\n",
    "<br>\n",
    "به لایه های conv و pool دقت کنید.\n",
    "<br>\n",
    "قبل از اولین لایه Dense یا Fully Connected همیشه متد Flatten فراخوانی میشود تا نورون ها به صورت یک وکتور در بیایند.\n",
    "</div>"
   ]
  },
  {
   "cell_type": "code",
   "execution_count": 5,
   "metadata": {
    "tags": []
   },
   "outputs": [],
   "source": [
    "import keras\n",
    "from keras import layers\n",
    "from keras.models import Sequential\n",
    "from keras.layers import Dense, Dropout, Activation\n",
    "import numpy as np\n",
    "from dataset import load_hoda\n",
    "import matplotlib.pyplot as plt\n",
    "from keras.utils import np_utils\n",
    "\n",
    "\n",
    "model = Sequential()\n",
    "model.add(layers.Conv2D(32, (3, 3), activation='relu',\n",
    "                        input_shape=(28, 28, 1)))\n",
    "model.add(layers.MaxPooling2D((2, 2)))\n",
    "model.add(layers.Conv2D(64, (3, 3), activation='relu'))\n",
    "model.add(layers.MaxPooling2D((2, 2)))\n",
    "model.add(layers.Conv2D(64, (3, 3), activation='relu'))\n",
    "model.add(layers.Flatten())\n",
    "model.add(layers.Dense(64, activation='relu'))\n",
    "model.add(Dropout(0.5))\n",
    "model.add(layers.Dense(10, activation='softmax'))\n"
   ]
  },
  {
   "cell_type": "markdown",
   "metadata": {},
   "source": [
    "<div style=\"direction:rtl;text-align:right;font-family:Tahoma\">\n",
    "نگاهی به تنسور وردی و خروجی هر لایه بیندازیم.\n",
    "<br>\n",
    "تصویر ورودی 28x28x3 بوده است\n",
    "</div>"
   ]
  },
  {
   "cell_type": "code",
   "execution_count": 4,
   "metadata": {},
   "outputs": [
    {
     "name": "stdout",
     "output_type": "stream",
     "text": [
      "Model: \"sequential_1\"\n",
      "_________________________________________________________________\n",
      "Layer (type)                 Output Shape              Param #   \n",
      "=================================================================\n",
      "conv2d_3 (Conv2D)            (None, 26, 26, 32)        320       \n",
      "_________________________________________________________________\n",
      "max_pooling2d_2 (MaxPooling2 (None, 13, 13, 32)        0         \n",
      "_________________________________________________________________\n",
      "conv2d_4 (Conv2D)            (None, 11, 11, 64)        18496     \n",
      "_________________________________________________________________\n",
      "max_pooling2d_3 (MaxPooling2 (None, 5, 5, 64)          0         \n",
      "_________________________________________________________________\n",
      "conv2d_5 (Conv2D)            (None, 3, 3, 64)          36928     \n",
      "_________________________________________________________________\n",
      "flatten_1 (Flatten)          (None, 576)               0         \n",
      "_________________________________________________________________\n",
      "dense_2 (Dense)              (None, 64)                36928     \n",
      "_________________________________________________________________\n",
      "dropout_1 (Dropout)          (None, 64)                0         \n",
      "_________________________________________________________________\n",
      "dense_3 (Dense)              (None, 10)                650       \n",
      "=================================================================\n",
      "Total params: 93,322\n",
      "Trainable params: 93,322\n",
      "Non-trainable params: 0\n",
      "_________________________________________________________________\n"
     ]
    }
   ],
   "source": [
    "model.summary()"
   ]
  },
  {
   "cell_type": "markdown",
   "metadata": {},
   "source": [
    "## <div style=\"direction:rtl;text-align:right;font-family:B Lotus, B Nazanin, Tahoma\">کد یک شبکه کانولوشنالی و آموزش آن از ابتدا تا انتها بر روی مجموعه داده هدی</div>\n"
   ]
  },
  {
   "cell_type": "markdown",
   "metadata": {},
   "source": [
    "<div style=\"direction:rtl;text-align:right;font-family:Tahoma\">\n",
    "تصاویر مجموعه داده هدی در تابعی که قبلا نوشته ایم، load_hoda به صورت flat شده و یک وکتور در آمده اند.\n",
    "<br>\n",
    "در این فراخوانی طول و عرض تصاویر 28 قرار داده شده است، پس خروجی این تابع وکتورهای 784تایی است.\n",
    "<br>\n",
    "** دقت کنید که قبل از ورودی شبکه کانولوشنالی تصویر را به شکل اصلی خود یعنی 28x28 برگردانده ایم.**\n",
    "<br>\n",
    "همچنین چون تصاویر سیاه و سفید است تعداد کانال تصویر را 1 قرار داده ایم.\n",
    "</div>"
   ]
  },
  {
   "cell_type": "code",
   "execution_count": 6,
   "metadata": {
    "tags": []
   },
   "outputs": [
    {
     "name": "stderr",
     "output_type": "stream",
     "text": [
      "2022-12-22 13:30:10.442294: I tensorflow/compiler/mlir/mlir_graph_optimization_pass.cc:176] None of the MLIR Optimization Passes are enabled (registered 2)\n",
      "2022-12-22 13:30:10.460735: I tensorflow/core/platform/profile_utils/cpu_utils.cc:114] CPU Frequency: 2899885000 Hz\n"
     ]
    },
    {
     "name": "stdout",
     "output_type": "stream",
     "text": [
      "Epoch 1/200\n",
      "14/14 [==============================] - 30s 243ms/step - loss: 2.1914 - accuracy: 0.2132 - val_loss: 1.4976 - val_accuracy: 0.6000\n",
      "Epoch 2/200\n",
      "14/14 [==============================] - 2s 144ms/step - loss: 1.3592 - accuracy: 0.5554 - val_loss: 0.6625 - val_accuracy: 0.8100\n",
      "Epoch 3/200\n",
      "14/14 [==============================] - 2s 144ms/step - loss: 0.8261 - accuracy: 0.7260 - val_loss: 0.4033 - val_accuracy: 0.8750\n",
      "Epoch 4/200\n",
      "14/14 [==============================] - 2s 145ms/step - loss: 0.6439 - accuracy: 0.7842 - val_loss: 0.2727 - val_accuracy: 0.9150\n",
      "Epoch 5/200\n",
      "14/14 [==============================] - 2s 165ms/step - loss: 0.4971 - accuracy: 0.8297 - val_loss: 0.1870 - val_accuracy: 0.9450\n",
      "Epoch 6/200\n",
      "14/14 [==============================] - 2s 157ms/step - loss: 0.4081 - accuracy: 0.8682 - val_loss: 0.1457 - val_accuracy: 0.9450\n",
      "Epoch 7/200\n",
      "14/14 [==============================] - 2s 162ms/step - loss: 0.3599 - accuracy: 0.8791 - val_loss: 0.1085 - val_accuracy: 0.9700\n",
      "Epoch 8/200\n",
      "14/14 [==============================] - 3s 181ms/step - loss: 0.3278 - accuracy: 0.8953 - val_loss: 0.1097 - val_accuracy: 0.9750\n",
      "Epoch 9/200\n",
      "14/14 [==============================] - 2s 176ms/step - loss: 0.2868 - accuracy: 0.9081 - val_loss: 0.0814 - val_accuracy: 0.9750\n",
      "Epoch 10/200\n",
      "14/14 [==============================] - 2s 155ms/step - loss: 0.2500 - accuracy: 0.9153 - val_loss: 0.0845 - val_accuracy: 0.9900\n",
      "Epoch 11/200\n",
      "14/14 [==============================] - 2s 166ms/step - loss: 0.2192 - accuracy: 0.9302 - val_loss: 0.0877 - val_accuracy: 0.9800\n",
      "Epoch 12/200\n",
      "14/14 [==============================] - 2s 171ms/step - loss: 0.2022 - accuracy: 0.9358 - val_loss: 0.0651 - val_accuracy: 0.9900\n",
      "Epoch 13/200\n",
      "14/14 [==============================] - 2s 164ms/step - loss: 0.1843 - accuracy: 0.9409 - val_loss: 0.0864 - val_accuracy: 0.9700\n",
      "Epoch 14/200\n",
      "14/14 [==============================] - 2s 163ms/step - loss: 0.1655 - accuracy: 0.9474 - val_loss: 0.0472 - val_accuracy: 0.9850\n",
      "Epoch 15/200\n",
      "14/14 [==============================] - 2s 154ms/step - loss: 0.1490 - accuracy: 0.9560 - val_loss: 0.0633 - val_accuracy: 0.9850\n",
      "Epoch 16/200\n",
      "14/14 [==============================] - 2s 153ms/step - loss: 0.1422 - accuracy: 0.9563 - val_loss: 0.0456 - val_accuracy: 0.9900\n",
      "Epoch 17/200\n",
      "14/14 [==============================] - 2s 156ms/step - loss: 0.1142 - accuracy: 0.9642 - val_loss: 0.0452 - val_accuracy: 0.9900\n",
      "Epoch 18/200\n",
      "14/14 [==============================] - 2s 160ms/step - loss: 0.1206 - accuracy: 0.9637 - val_loss: 0.0406 - val_accuracy: 0.9900\n",
      "Epoch 19/200\n",
      "14/14 [==============================] - 2s 160ms/step - loss: 0.1196 - accuracy: 0.9571 - val_loss: 0.0431 - val_accuracy: 0.9850\n",
      "Epoch 20/200\n",
      "14/14 [==============================] - 2s 165ms/step - loss: 0.1159 - accuracy: 0.9597 - val_loss: 0.0498 - val_accuracy: 0.9850\n",
      "Epoch 21/200\n",
      "14/14 [==============================] - 2s 164ms/step - loss: 0.1098 - accuracy: 0.9616 - val_loss: 0.0470 - val_accuracy: 0.9800\n",
      "Epoch 22/200\n",
      "14/14 [==============================] - 2s 157ms/step - loss: 0.1027 - accuracy: 0.9701 - val_loss: 0.0301 - val_accuracy: 0.9950\n",
      "Epoch 23/200\n",
      "14/14 [==============================] - 2s 143ms/step - loss: 0.1003 - accuracy: 0.9613 - val_loss: 0.0338 - val_accuracy: 0.9900\n",
      "Epoch 24/200\n",
      "14/14 [==============================] - 2s 143ms/step - loss: 0.0928 - accuracy: 0.9724 - val_loss: 0.0398 - val_accuracy: 0.9850\n",
      "Epoch 25/200\n",
      "14/14 [==============================] - 2s 130ms/step - loss: 0.0885 - accuracy: 0.9697 - val_loss: 0.0429 - val_accuracy: 0.9900\n",
      "Epoch 26/200\n",
      "14/14 [==============================] - 2s 143ms/step - loss: 0.0778 - accuracy: 0.9743 - val_loss: 0.0454 - val_accuracy: 0.9900\n",
      "Epoch 27/200\n",
      "14/14 [==============================] - 2s 167ms/step - loss: 0.0750 - accuracy: 0.9756 - val_loss: 0.0471 - val_accuracy: 0.9850\n",
      "Epoch 28/200\n",
      "14/14 [==============================] - 2s 161ms/step - loss: 0.0860 - accuracy: 0.9716 - val_loss: 0.0317 - val_accuracy: 0.9850\n",
      "Epoch 29/200\n",
      "14/14 [==============================] - 2s 172ms/step - loss: 0.0585 - accuracy: 0.9807 - val_loss: 0.0308 - val_accuracy: 0.9900\n",
      "Epoch 30/200\n",
      "14/14 [==============================] - 2s 159ms/step - loss: 0.0674 - accuracy: 0.9786 - val_loss: 0.0353 - val_accuracy: 0.9850\n",
      "Epoch 31/200\n",
      "14/14 [==============================] - 2s 160ms/step - loss: 0.0594 - accuracy: 0.9795 - val_loss: 0.0425 - val_accuracy: 0.9850\n",
      "Epoch 32/200\n",
      "14/14 [==============================] - 2s 163ms/step - loss: 0.0554 - accuracy: 0.9825 - val_loss: 0.0395 - val_accuracy: 0.9850\n",
      "Epoch 33/200\n",
      "14/14 [==============================] - 2s 174ms/step - loss: 0.0585 - accuracy: 0.9796 - val_loss: 0.0432 - val_accuracy: 0.9850\n",
      "Epoch 34/200\n",
      "14/14 [==============================] - 2s 174ms/step - loss: 0.0638 - accuracy: 0.9794 - val_loss: 0.0283 - val_accuracy: 0.9900\n",
      "Epoch 35/200\n",
      "14/14 [==============================] - 2s 156ms/step - loss: 0.0583 - accuracy: 0.9778 - val_loss: 0.0441 - val_accuracy: 0.9850\n",
      "Epoch 36/200\n",
      "14/14 [==============================] - 2s 167ms/step - loss: 0.0595 - accuracy: 0.9760 - val_loss: 0.0327 - val_accuracy: 0.9850\n",
      "Epoch 37/200\n",
      "14/14 [==============================] - 2s 168ms/step - loss: 0.0498 - accuracy: 0.9816 - val_loss: 0.0424 - val_accuracy: 0.9800\n",
      "Epoch 38/200\n",
      "14/14 [==============================] - 2s 163ms/step - loss: 0.0503 - accuracy: 0.9823 - val_loss: 0.0321 - val_accuracy: 0.9900\n",
      "Epoch 39/200\n",
      "14/14 [==============================] - 2s 170ms/step - loss: 0.0463 - accuracy: 0.9859 - val_loss: 0.0633 - val_accuracy: 0.9800\n",
      "Epoch 40/200\n",
      "14/14 [==============================] - 2s 159ms/step - loss: 0.0417 - accuracy: 0.9870 - val_loss: 0.0469 - val_accuracy: 0.9800\n",
      "Epoch 41/200\n",
      "14/14 [==============================] - 2s 166ms/step - loss: 0.0361 - accuracy: 0.9886 - val_loss: 0.0649 - val_accuracy: 0.9800\n",
      "Epoch 42/200\n",
      "14/14 [==============================] - 3s 186ms/step - loss: 0.0440 - accuracy: 0.9875 - val_loss: 0.0294 - val_accuracy: 0.9800\n",
      "Epoch 43/200\n",
      "14/14 [==============================] - 2s 167ms/step - loss: 0.0545 - accuracy: 0.9840 - val_loss: 0.0332 - val_accuracy: 0.9800\n",
      "Epoch 44/200\n",
      "14/14 [==============================] - 2s 166ms/step - loss: 0.0388 - accuracy: 0.9863 - val_loss: 0.0260 - val_accuracy: 0.9850\n",
      "Epoch 45/200\n",
      "14/14 [==============================] - 2s 164ms/step - loss: 0.0346 - accuracy: 0.9876 - val_loss: 0.0438 - val_accuracy: 0.9850\n",
      "Epoch 46/200\n",
      "14/14 [==============================] - 2s 161ms/step - loss: 0.0333 - accuracy: 0.9886 - val_loss: 0.0437 - val_accuracy: 0.9900\n",
      "Epoch 47/200\n",
      "14/14 [==============================] - 2s 153ms/step - loss: 0.0353 - accuracy: 0.9872 - val_loss: 0.0382 - val_accuracy: 0.9900\n",
      "Epoch 48/200\n",
      "14/14 [==============================] - 2s 162ms/step - loss: 0.0332 - accuracy: 0.9903 - val_loss: 0.0351 - val_accuracy: 0.9900\n",
      "Epoch 49/200\n",
      "14/14 [==============================] - 2s 170ms/step - loss: 0.0310 - accuracy: 0.9878 - val_loss: 0.0337 - val_accuracy: 0.9900\n",
      "Epoch 50/200\n",
      "14/14 [==============================] - 2s 168ms/step - loss: 0.0336 - accuracy: 0.9870 - val_loss: 0.0460 - val_accuracy: 0.9850\n",
      "Epoch 51/200\n",
      "14/14 [==============================] - 2s 165ms/step - loss: 0.0342 - accuracy: 0.9883 - val_loss: 0.0272 - val_accuracy: 0.9900\n",
      "Epoch 52/200\n",
      "14/14 [==============================] - 2s 160ms/step - loss: 0.0312 - accuracy: 0.9870 - val_loss: 0.0492 - val_accuracy: 0.9900\n",
      "Epoch 53/200\n",
      "14/14 [==============================] - 2s 165ms/step - loss: 0.0316 - accuracy: 0.9895 - val_loss: 0.0474 - val_accuracy: 0.9900\n",
      "Epoch 54/200\n",
      "14/14 [==============================] - 2s 161ms/step - loss: 0.0314 - accuracy: 0.9890 - val_loss: 0.0302 - val_accuracy: 0.9900\n",
      "Epoch 55/200\n",
      "14/14 [==============================] - 2s 165ms/step - loss: 0.0299 - accuracy: 0.9907 - val_loss: 0.0237 - val_accuracy: 0.9900\n",
      "Epoch 56/200\n",
      "14/14 [==============================] - 2s 154ms/step - loss: 0.0327 - accuracy: 0.9887 - val_loss: 0.0332 - val_accuracy: 0.9800\n",
      "Epoch 57/200\n",
      "14/14 [==============================] - 2s 160ms/step - loss: 0.0242 - accuracy: 0.9923 - val_loss: 0.0288 - val_accuracy: 0.9900\n",
      "Epoch 58/200\n",
      "14/14 [==============================] - 3s 200ms/step - loss: 0.0212 - accuracy: 0.9936 - val_loss: 0.0455 - val_accuracy: 0.9850\n",
      "Epoch 59/200\n",
      "14/14 [==============================] - 2s 143ms/step - loss: 0.0228 - accuracy: 0.9922 - val_loss: 0.0391 - val_accuracy: 0.9900\n",
      "Epoch 60/200\n",
      "14/14 [==============================] - 2s 149ms/step - loss: 0.0206 - accuracy: 0.9942 - val_loss: 0.0293 - val_accuracy: 0.9850\n",
      "Epoch 61/200\n",
      "14/14 [==============================] - 2s 137ms/step - loss: 0.0193 - accuracy: 0.9933 - val_loss: 0.0375 - val_accuracy: 0.9900\n",
      "Epoch 62/200\n",
      "14/14 [==============================] - 2s 121ms/step - loss: 0.0236 - accuracy: 0.9910 - val_loss: 0.0443 - val_accuracy: 0.9850\n",
      "Epoch 63/200\n",
      "14/14 [==============================] - 2s 136ms/step - loss: 0.0288 - accuracy: 0.9886 - val_loss: 0.0301 - val_accuracy: 0.9950\n",
      "Epoch 64/200\n",
      "12/14 [========================>.....] - ETA: 0s - loss: 0.0171 - accuracy: 0.9943"
     ]
    },
    {
     "ename": "KeyboardInterrupt",
     "evalue": "",
     "output_type": "error",
     "traceback": [
      "\u001b[0;31m---------------------------------------------------------------------------\u001b[0m",
      "\u001b[0;31mKeyboardInterrupt\u001b[0m                         Traceback (most recent call last)",
      "\u001b[0;32m/tmp/ipykernel_9289/7798546.py\u001b[0m in \u001b[0;36m<module>\u001b[0;34m\u001b[0m\n\u001b[1;32m     61\u001b[0m \u001b[0;34m\u001b[0m\u001b[0m\n\u001b[1;32m     62\u001b[0m \u001b[0;31m# 7. Fit model on training data\u001b[0m\u001b[0;34m\u001b[0m\u001b[0;34m\u001b[0m\u001b[0;34m\u001b[0m\u001b[0m\n\u001b[0;32m---> 63\u001b[0;31m history = model.fit(x_train, y_train,\n\u001b[0m\u001b[1;32m     64\u001b[0m           epochs=200, batch_size=256, validation_data = (x_val, y_val))#directly set validation data-\n\u001b[1;32m     65\u001b[0m                                                                        \u001b[0;31m#or we can set the percentage of validation data\u001b[0m\u001b[0;34m\u001b[0m\u001b[0;34m\u001b[0m\u001b[0;34m\u001b[0m\u001b[0m\n",
      "\u001b[0;32m~/anaconda3/lib/python3.8/site-packages/keras/engine/training.py\u001b[0m in \u001b[0;36mfit\u001b[0;34m(self, x, y, batch_size, epochs, verbose, callbacks, validation_split, validation_data, shuffle, class_weight, sample_weight, initial_epoch, steps_per_epoch, validation_steps, validation_batch_size, validation_freq, max_queue_size, workers, use_multiprocessing)\u001b[0m\n\u001b[1;32m   1156\u001b[0m                 _r=1):\n\u001b[1;32m   1157\u001b[0m               \u001b[0mcallbacks\u001b[0m\u001b[0;34m.\u001b[0m\u001b[0mon_train_batch_begin\u001b[0m\u001b[0;34m(\u001b[0m\u001b[0mstep\u001b[0m\u001b[0;34m)\u001b[0m\u001b[0;34m\u001b[0m\u001b[0;34m\u001b[0m\u001b[0m\n\u001b[0;32m-> 1158\u001b[0;31m               \u001b[0mtmp_logs\u001b[0m \u001b[0;34m=\u001b[0m \u001b[0mself\u001b[0m\u001b[0;34m.\u001b[0m\u001b[0mtrain_function\u001b[0m\u001b[0;34m(\u001b[0m\u001b[0miterator\u001b[0m\u001b[0;34m)\u001b[0m\u001b[0;34m\u001b[0m\u001b[0;34m\u001b[0m\u001b[0m\n\u001b[0m\u001b[1;32m   1159\u001b[0m               \u001b[0;32mif\u001b[0m \u001b[0mdata_handler\u001b[0m\u001b[0;34m.\u001b[0m\u001b[0mshould_sync\u001b[0m\u001b[0;34m:\u001b[0m\u001b[0;34m\u001b[0m\u001b[0;34m\u001b[0m\u001b[0m\n\u001b[1;32m   1160\u001b[0m                 \u001b[0mcontext\u001b[0m\u001b[0;34m.\u001b[0m\u001b[0masync_wait\u001b[0m\u001b[0;34m(\u001b[0m\u001b[0;34m)\u001b[0m\u001b[0;34m\u001b[0m\u001b[0;34m\u001b[0m\u001b[0m\n",
      "\u001b[0;32m~/anaconda3/lib/python3.8/site-packages/tensorflow/python/eager/def_function.py\u001b[0m in \u001b[0;36m__call__\u001b[0;34m(self, *args, **kwds)\u001b[0m\n\u001b[1;32m    887\u001b[0m \u001b[0;34m\u001b[0m\u001b[0m\n\u001b[1;32m    888\u001b[0m       \u001b[0;32mwith\u001b[0m \u001b[0mOptionalXlaContext\u001b[0m\u001b[0;34m(\u001b[0m\u001b[0mself\u001b[0m\u001b[0;34m.\u001b[0m\u001b[0m_jit_compile\u001b[0m\u001b[0;34m)\u001b[0m\u001b[0;34m:\u001b[0m\u001b[0;34m\u001b[0m\u001b[0;34m\u001b[0m\u001b[0m\n\u001b[0;32m--> 889\u001b[0;31m         \u001b[0mresult\u001b[0m \u001b[0;34m=\u001b[0m \u001b[0mself\u001b[0m\u001b[0;34m.\u001b[0m\u001b[0m_call\u001b[0m\u001b[0;34m(\u001b[0m\u001b[0;34m*\u001b[0m\u001b[0margs\u001b[0m\u001b[0;34m,\u001b[0m \u001b[0;34m**\u001b[0m\u001b[0mkwds\u001b[0m\u001b[0;34m)\u001b[0m\u001b[0;34m\u001b[0m\u001b[0;34m\u001b[0m\u001b[0m\n\u001b[0m\u001b[1;32m    890\u001b[0m \u001b[0;34m\u001b[0m\u001b[0m\n\u001b[1;32m    891\u001b[0m       \u001b[0mnew_tracing_count\u001b[0m \u001b[0;34m=\u001b[0m \u001b[0mself\u001b[0m\u001b[0;34m.\u001b[0m\u001b[0mexperimental_get_tracing_count\u001b[0m\u001b[0;34m(\u001b[0m\u001b[0;34m)\u001b[0m\u001b[0;34m\u001b[0m\u001b[0;34m\u001b[0m\u001b[0m\n",
      "\u001b[0;32m~/anaconda3/lib/python3.8/site-packages/tensorflow/python/eager/def_function.py\u001b[0m in \u001b[0;36m_call\u001b[0;34m(self, *args, **kwds)\u001b[0m\n\u001b[1;32m    915\u001b[0m       \u001b[0;31m# In this case we have created variables on the first call, so we run the\u001b[0m\u001b[0;34m\u001b[0m\u001b[0;34m\u001b[0m\u001b[0;34m\u001b[0m\u001b[0m\n\u001b[1;32m    916\u001b[0m       \u001b[0;31m# defunned version which is guaranteed to never create variables.\u001b[0m\u001b[0;34m\u001b[0m\u001b[0;34m\u001b[0m\u001b[0;34m\u001b[0m\u001b[0m\n\u001b[0;32m--> 917\u001b[0;31m       \u001b[0;32mreturn\u001b[0m \u001b[0mself\u001b[0m\u001b[0;34m.\u001b[0m\u001b[0m_stateless_fn\u001b[0m\u001b[0;34m(\u001b[0m\u001b[0;34m*\u001b[0m\u001b[0margs\u001b[0m\u001b[0;34m,\u001b[0m \u001b[0;34m**\u001b[0m\u001b[0mkwds\u001b[0m\u001b[0;34m)\u001b[0m  \u001b[0;31m# pylint: disable=not-callable\u001b[0m\u001b[0;34m\u001b[0m\u001b[0;34m\u001b[0m\u001b[0m\n\u001b[0m\u001b[1;32m    918\u001b[0m     \u001b[0;32melif\u001b[0m \u001b[0mself\u001b[0m\u001b[0;34m.\u001b[0m\u001b[0m_stateful_fn\u001b[0m \u001b[0;32mis\u001b[0m \u001b[0;32mnot\u001b[0m \u001b[0;32mNone\u001b[0m\u001b[0;34m:\u001b[0m\u001b[0;34m\u001b[0m\u001b[0;34m\u001b[0m\u001b[0m\n\u001b[1;32m    919\u001b[0m       \u001b[0;31m# Release the lock early so that multiple threads can perform the call\u001b[0m\u001b[0;34m\u001b[0m\u001b[0;34m\u001b[0m\u001b[0;34m\u001b[0m\u001b[0m\n",
      "\u001b[0;32m~/anaconda3/lib/python3.8/site-packages/tensorflow/python/eager/function.py\u001b[0m in \u001b[0;36m__call__\u001b[0;34m(self, *args, **kwargs)\u001b[0m\n\u001b[1;32m   3021\u001b[0m       (graph_function,\n\u001b[1;32m   3022\u001b[0m        filtered_flat_args) = self._maybe_define_function(args, kwargs)\n\u001b[0;32m-> 3023\u001b[0;31m     return graph_function._call_flat(\n\u001b[0m\u001b[1;32m   3024\u001b[0m         filtered_flat_args, captured_inputs=graph_function.captured_inputs)  # pylint: disable=protected-access\n\u001b[1;32m   3025\u001b[0m \u001b[0;34m\u001b[0m\u001b[0m\n",
      "\u001b[0;32m~/anaconda3/lib/python3.8/site-packages/tensorflow/python/eager/function.py\u001b[0m in \u001b[0;36m_call_flat\u001b[0;34m(self, args, captured_inputs, cancellation_manager)\u001b[0m\n\u001b[1;32m   1958\u001b[0m         and executing_eagerly):\n\u001b[1;32m   1959\u001b[0m       \u001b[0;31m# No tape is watching; skip to running the function.\u001b[0m\u001b[0;34m\u001b[0m\u001b[0;34m\u001b[0m\u001b[0;34m\u001b[0m\u001b[0m\n\u001b[0;32m-> 1960\u001b[0;31m       return self._build_call_outputs(self._inference_function.call(\n\u001b[0m\u001b[1;32m   1961\u001b[0m           ctx, args, cancellation_manager=cancellation_manager))\n\u001b[1;32m   1962\u001b[0m     forward_backward = self._select_forward_and_backward_functions(\n",
      "\u001b[0;32m~/anaconda3/lib/python3.8/site-packages/tensorflow/python/eager/function.py\u001b[0m in \u001b[0;36mcall\u001b[0;34m(self, ctx, args, cancellation_manager)\u001b[0m\n\u001b[1;32m    589\u001b[0m       \u001b[0;32mwith\u001b[0m \u001b[0m_InterpolateFunctionError\u001b[0m\u001b[0;34m(\u001b[0m\u001b[0mself\u001b[0m\u001b[0;34m)\u001b[0m\u001b[0;34m:\u001b[0m\u001b[0;34m\u001b[0m\u001b[0;34m\u001b[0m\u001b[0m\n\u001b[1;32m    590\u001b[0m         \u001b[0;32mif\u001b[0m \u001b[0mcancellation_manager\u001b[0m \u001b[0;32mis\u001b[0m \u001b[0;32mNone\u001b[0m\u001b[0;34m:\u001b[0m\u001b[0;34m\u001b[0m\u001b[0;34m\u001b[0m\u001b[0m\n\u001b[0;32m--> 591\u001b[0;31m           outputs = execute.execute(\n\u001b[0m\u001b[1;32m    592\u001b[0m               \u001b[0mstr\u001b[0m\u001b[0;34m(\u001b[0m\u001b[0mself\u001b[0m\u001b[0;34m.\u001b[0m\u001b[0msignature\u001b[0m\u001b[0;34m.\u001b[0m\u001b[0mname\u001b[0m\u001b[0;34m)\u001b[0m\u001b[0;34m,\u001b[0m\u001b[0;34m\u001b[0m\u001b[0;34m\u001b[0m\u001b[0m\n\u001b[1;32m    593\u001b[0m               \u001b[0mnum_outputs\u001b[0m\u001b[0;34m=\u001b[0m\u001b[0mself\u001b[0m\u001b[0;34m.\u001b[0m\u001b[0m_num_outputs\u001b[0m\u001b[0;34m,\u001b[0m\u001b[0;34m\u001b[0m\u001b[0;34m\u001b[0m\u001b[0m\n",
      "\u001b[0;32m~/anaconda3/lib/python3.8/site-packages/tensorflow/python/eager/execute.py\u001b[0m in \u001b[0;36mquick_execute\u001b[0;34m(op_name, num_outputs, inputs, attrs, ctx, name)\u001b[0m\n\u001b[1;32m     57\u001b[0m   \u001b[0;32mtry\u001b[0m\u001b[0;34m:\u001b[0m\u001b[0;34m\u001b[0m\u001b[0;34m\u001b[0m\u001b[0m\n\u001b[1;32m     58\u001b[0m     \u001b[0mctx\u001b[0m\u001b[0;34m.\u001b[0m\u001b[0mensure_initialized\u001b[0m\u001b[0;34m(\u001b[0m\u001b[0;34m)\u001b[0m\u001b[0;34m\u001b[0m\u001b[0;34m\u001b[0m\u001b[0m\n\u001b[0;32m---> 59\u001b[0;31m     tensors = pywrap_tfe.TFE_Py_Execute(ctx._handle, device_name, op_name,\n\u001b[0m\u001b[1;32m     60\u001b[0m                                         inputs, attrs, num_outputs)\n\u001b[1;32m     61\u001b[0m   \u001b[0;32mexcept\u001b[0m \u001b[0mcore\u001b[0m\u001b[0;34m.\u001b[0m\u001b[0m_NotOkStatusException\u001b[0m \u001b[0;32mas\u001b[0m \u001b[0me\u001b[0m\u001b[0;34m:\u001b[0m\u001b[0;34m\u001b[0m\u001b[0;34m\u001b[0m\u001b[0m\n",
      "\u001b[0;31mKeyboardInterrupt\u001b[0m: "
     ]
    }
   ],
   "source": [
    "# 1. Import libraries and modules\n",
    "import keras\n",
    "from keras import layers\n",
    "from keras.models import Sequential\n",
    "from keras.layers import Dense, Dropout, Activation\n",
    "import numpy as np\n",
    "from dataset import load_hoda\n",
    "import matplotlib.pyplot as plt\n",
    "\n",
    "np.random.seed(123)  # for reproducibility\n",
    "\n",
    "# Load pre-shuffled HODA data into train and test sets\n",
    "x_train_original, y_train_original, x_test_original, y_test_original = load_hoda(\n",
    "                                                                        training_sample_size=3500,\n",
    "                                                                        test_sample_size=400,size=28)        \n",
    "\n",
    "# Preprocess input data\n",
    "''' 3.1: input data in numpy array format'''\n",
    "x_train = np.array(x_train_original)\n",
    "x_test = np.array(x_test_original)\n",
    "'''3.2 normalize our data values to the range [0, 1]'''\n",
    "x_train = x_train.astype('float32')\n",
    "x_test = x_test.astype('float32')\n",
    "x_train /= 255\n",
    "x_test /= 255\n",
    "\n",
    "# Reshape to original image shape (n x 784)  ==> (n x 28 x 28 x 1)\n",
    "x_train = x_train.reshape(-1,28,28,1)\n",
    "x_test = x_test.reshape(-1,28,28,1)#-1 for set that parameter automaticly\n",
    "\n",
    "\n",
    "# 4. Preprocess class labels\n",
    "y_train = keras.utils.np_utils.to_categorical(y_train_original, num_classes=10)\n",
    "y_test  = keras.utils.np_utils.to_categorical(y_test_original, num_classes=10)\n",
    "\n",
    "# test and validation set\n",
    "x_val = x_test[200:]\n",
    "x_test = x_test[:200]\n",
    "y_val = y_test[200:]\n",
    "y_test = y_test[:200]\n",
    "\n",
    "# 5. Define model architecture\n",
    "model = Sequential()\n",
    "model.add(layers.Conv2D(32, (3, 3), activation='relu',\n",
    "                        input_shape=(28, 28, 1)))\n",
    "model.add(layers.MaxPooling2D((2, 2)))\n",
    "model.add(layers.Conv2D(64, (3, 3), activation='relu'))\n",
    "model.add(layers.MaxPooling2D((2, 2)))\n",
    "model.add(layers.Conv2D(64, (3, 3), activation='relu'))\n",
    "model.add(layers.Flatten())\n",
    "model.add(layers.Dense(64, activation='relu'))\n",
    "model.add(Dropout(0.5))\n",
    "model.add(layers.Dense(10, activation='softmax'))\n",
    "\n",
    "\n",
    "# 6. Compile model\n",
    "model.compile(loss='categorical_crossentropy',#for 10 category that we want\n",
    "              optimizer='adam',\n",
    "              metrics=['accuracy'])\n",
    "\n",
    "\n",
    "# 7. Fit model on training data\n",
    "history = model.fit(x_train, y_train,\n",
    "          epochs=200, batch_size=256, validation_data = (x_val, y_val))#directly set validation data-\n",
    "                                                                       #or we can set the percentage of validation data \n"
   ]
  },
  {
   "cell_type": "code",
   "execution_count": 13,
   "metadata": {},
   "outputs": [
    {
     "data": {
      "image/png": "[encoded data removed]",
      "text/plain": [
       "<Figure size 432x288 with 1 Axes>"
      ]
     },
     "metadata": {},
     "output_type": "display_data"
    },
    {
     "data": {
      "image/png": "[encoded data removed]",
      "text/plain": [
       "<Figure size 432x288 with 1 Axes>"
      ]
     },
     "metadata": {},
     "output_type": "display_data"
    }
   ],
   "source": [
    "import matplotlib.pyplot as plt\n",
    "\n",
    "acc = history.history['acc']\n",
    "val_acc = history.history['val_acc']\n",
    "loss = history.history['loss']\n",
    "val_loss = history.history['val_loss']\n",
    "\n",
    "epochs = range(len(acc))\n",
    "\n",
    "plt.plot(epochs, acc, 'bo', label='Training acc')\n",
    "plt.plot(epochs, val_acc, 'b', label='Validation acc')\n",
    "plt.title('Training and validation accuracy')\n",
    "plt.legend()\n",
    "\n",
    "plt.figure()\n",
    "\n",
    "plt.plot(epochs, loss, 'bo', label='Training loss')\n",
    "plt.plot(epochs, val_loss, 'b', label='Validation loss')\n",
    "plt.title('Training and validation loss')\n",
    "plt.legend()\n",
    "\n",
    "plt.show()"
   ]
  },
  {
   "cell_type": "code",
   "execution_count": null,
   "metadata": {
    "collapsed": true,
    "jupyter": {
     "outputs_hidden": true
    }
   },
   "outputs": [],
   "source": []
  }
 ],
 "metadata": {
  "anaconda-cloud": {},
  "kernelspec": {
   "display_name": "Python 3 (ipykernel)",
   "language": "python",
   "name": "python3"
  },
  "language_info": {
   "codemirror_mode": {
    "name": "ipython",
    "version": 3
   },
   "file_extension": ".py",
   "mimetype": "text/x-python",
   "name": "python",
   "nbconvert_exporter": "python",
   "pygments_lexer": "ipython3",
   "version": "3.8.5"
  },
  "nbpresent": {
   "slides": {
    "300ee14f-a043-486e-b274-7ff253907cd7": {
     "id": "300ee14f-a043-486e-b274-7ff253907cd7",
     "prev": "cb74e0bc-4513-4d13-b7f1-14c3078a7927",
     "regions": {
      "26dc3f39-a230-447c-af4c-f5e5b2fb7835": {
       "attrs": {
        "height": 0.8,
        "width": 0.8,
        "x": 0.1,
        "y": 0.1
       },
       "content": {
        "cell": "c58440a5-3f8f-4f37-9c79-6bf766209406",
        "part": "whole"
       },
       "id": "26dc3f39-a230-447c-af4c-f5e5b2fb7835"
      }
     }
    },
    "878aa53a-1444-4100-8f50-7a408191c579": {
     "id": "878aa53a-1444-4100-8f50-7a408191c579",
     "prev": null,
     "regions": {
      "a6c6843a-5ea6-4fbc-b890-3b4b8ae475b3": {
       "attrs": {
        "height": 0.8,
        "width": 0.8,
        "x": 0.1,
        "y": 0.1
       },
       "content": {
        "cell": "588ee1fa-64b5-453b-ade7-8e6b2515821c",
        "part": "whole"
       },
       "id": "a6c6843a-5ea6-4fbc-b890-3b4b8ae475b3"
      }
     }
    },
    "96ffe88e-7b50-43de-afdd-942e564f4e3e": {
     "id": "96ffe88e-7b50-43de-afdd-942e564f4e3e",
     "prev": "878aa53a-1444-4100-8f50-7a408191c579",
     "regions": {
      "b7e52e12-489a-468d-b10c-af2024fd2856": {
       "attrs": {
        "height": 0.8,
        "width": 0.8,
        "x": 0.1,
        "y": 0.1
       },
       "content": {
        "cell": "de829a92-1fb6-44ad-a2c6-fc1001e1f6e1",
        "part": "whole"
       },
       "id": "b7e52e12-489a-468d-b10c-af2024fd2856"
      }
     }
    },
    "cb74e0bc-4513-4d13-b7f1-14c3078a7927": {
     "id": "cb74e0bc-4513-4d13-b7f1-14c3078a7927",
     "prev": "96ffe88e-7b50-43de-afdd-942e564f4e3e",
     "regions": {
      "444878ee-68f3-4abb-acff-a7079b21e86d": {
       "attrs": {
        "height": 0.8,
        "width": 0.8,
        "x": 0.1,
        "y": 0.1
       },
       "content": {
        "cell": "25f3f538-1ee8-4d98-a6bb-14cbeb7a702d",
        "part": "whole"
       },
       "id": "444878ee-68f3-4abb-acff-a7079b21e86d"
      }
     }
    }
   },
   "themes": {}
  }
 },
 "nbformat": 4,
 "nbformat_minor": 4
}
